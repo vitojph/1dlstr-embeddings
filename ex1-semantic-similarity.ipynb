{
 "cells": [
  {
   "cell_type": "markdown",
   "id": "distributed-metropolitan",
   "metadata": {},
   "source": [
    "## Similitud semántica"
   ]
  },
  {
   "cell_type": "code",
   "execution_count": null,
   "id": "atlantic-stack",
   "metadata": {},
   "outputs": [],
   "source": [
    "import numpy as np\n",
    "import spacy\n",
    "from typing import List\n",
    "\n",
    "nlp = spacy.load(\"en_core_web_md\")"
   ]
  },
  {
   "cell_type": "code",
   "execution_count": null,
   "id": "expected-filing",
   "metadata": {},
   "outputs": [],
   "source": [
    "def search_similar_query(\n",
    "    text: str, \n",
    "    topk: int = 3,\n",
    "    docs: List[str] = docs, \n",
    "    doc_vecs: List[np.ndarray] = doc_vecs\n",
    "):\n",
    "    query = nlp(text)\n",
    "    # normalized dot product as score\n",
    "    score = np.sum(query.vector * doc_vecs, axis=1) / np.linalg.norm(doc_vecs, axis=1)\n",
    "    topk_idx = np.argsort(score)[::-1][:3]\n",
    "    for idx in topk_idx:\n",
    "        print(f\"[{score[idx]}]: {docs[idx]}\")"
   ]
  },
  {
   "cell_type": "code",
   "execution_count": null,
   "id": "current-advancement",
   "metadata": {},
   "outputs": [],
   "source": [
    "docs = [\n",
    "    \"I hate tennis.\",\n",
    "    \"I love ice cream\",\n",
    "    \"I love riding my bicycle\",\n",
    "    \"My car is a blue Hyunday\",\n",
    "    \"This session is about natural language processing and artificial intelligence\"\n",
    "]\n",
    "\n",
    "doc_vecs = [nlp(doc).vector for doc in docs]"
   ]
  },
  {
   "cell_type": "code",
   "execution_count": null,
   "id": "public-recall",
   "metadata": {},
   "outputs": [],
   "source": [
    "search_similar_query(\"I own a Toyota, docs, docs_vecs\")"
   ]
  },
  {
   "cell_type": "code",
   "execution_count": null,
   "id": "directed-client",
   "metadata": {},
   "outputs": [],
   "source": [
    "search_similar_query(\"I like dessert\")"
   ]
  },
  {
   "cell_type": "code",
   "execution_count": null,
   "id": "southwest-amplifier",
   "metadata": {},
   "outputs": [],
   "source": [
    "search_similar_query(\"I have too many bikes\")"
   ]
  },
  {
   "cell_type": "code",
   "execution_count": null,
   "id": "located-necessity",
   "metadata": {},
   "outputs": [],
   "source": [
    "search_similar_query(\"we're talking about deep learning and nlp\")"
   ]
  }
 ],
 "metadata": {
  "kernelspec": {
   "display_name": "Python 3",
   "language": "python",
   "name": "python3"
  },
  "language_info": {
   "codemirror_mode": {
    "name": "ipython",
    "version": 3
   },
   "file_extension": ".py",
   "mimetype": "text/x-python",
   "name": "python",
   "nbconvert_exporter": "python",
   "pygments_lexer": "ipython3",
   "version": "3.7.3"
  }
 },
 "nbformat": 4,
 "nbformat_minor": 5
}
