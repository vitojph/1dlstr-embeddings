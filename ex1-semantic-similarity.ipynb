{
 "cells": [
  {
   "cell_type": "markdown",
   "id": "stable-spanking",
   "metadata": {},
   "source": [
    "## Similitud semántica\n",
    "\n",
    "Vamos a ilustrar en qué consiste la similitud semántica con un pequeño ejemplo de buscador que utiliza embeddings.\n",
    "\n",
    "Para ello, vamos a inspirarnos es este [ejemplo de buscador semántico en 3 minutos](https://github.com/hanxiao/bert-as-service#building-a-qa-semantic-search-engine-in-3-minutes), del proyecto [`bert-as-service`](https://github.com/hanxiao/bert-as-service) de [Han Xiao](https://hanxiao.io/)."
   ]
  },
  {
   "cell_type": "code",
   "execution_count": null,
   "id": "public-cargo",
   "metadata": {},
   "outputs": [],
   "source": [
    "import numpy as np\n",
    "import spacy\n",
    "from typing import List\n",
    "\n",
    "nlp = spacy.load(\"en_core_web_md\")"
   ]
  },
  {
   "cell_type": "code",
   "execution_count": null,
   "id": "micro-processor",
   "metadata": {},
   "outputs": [],
   "source": [
    "def search_similar_query(\n",
    "    text: str, \n",
    "    topk: int = 3,\n",
    "    docs: List[str] = docs, \n",
    "    doc_vecs: List[np.ndarray] = doc_vecs\n",
    "):\n",
    "    query = nlp(text)\n",
    "    # normalized dot product as score\n",
    "    score = np.sum(query.vector * doc_vecs, axis=1) / np.linalg.norm(doc_vecs, axis=1)\n",
    "    topk_idx = np.argsort(score)[::-1][:3]\n",
    "    for idx in topk_idx:\n",
    "        print(f\"[{score[idx]}]: {docs[idx]}\")"
   ]
  }
 ],
 "metadata": {
  "kernelspec": {
   "display_name": "Python 3",
   "language": "python",
   "name": "python3"
  },
  "language_info": {
   "codemirror_mode": {
    "name": "ipython",
    "version": 3
   },
   "file_extension": ".py",
   "mimetype": "text/x-python",
   "name": "python",
   "nbconvert_exporter": "python",
   "pygments_lexer": "ipython3",
   "version": "3.7.3"
  }
 },
 "nbformat": 4,
 "nbformat_minor": 5
}
