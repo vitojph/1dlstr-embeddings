{
 "cells": [
  {
   "cell_type": "code",
   "execution_count": 1,
   "id": "martial-throat",
   "metadata": {},
   "outputs": [
    {
     "data": {
      "text/html": [
       "<style>\n",
       "@import url('https://fonts.googleapis.com/css?family=Montserrat');\n",
       "\n",
       "h1, h2, h3 {\n",
       "    font-family: Montserrat;\n",
       "    font-weight: bold;\n",
       "    position: static;\n",
       "    color: #ffcf21;\n",
       "}\n",
       "\n",
       "p, li {\n",
       "    font-family: Montserrat;\n",
       "    size: 11px;\n",
       "    text-align: justify;\n",
       "    text-justify: inter-word;\n",
       "}\n",
       "\n",
       "</style>\n",
       "\n"
      ],
      "text/plain": [
       "<IPython.core.display.HTML object>"
      ]
     },
     "execution_count": 1,
     "metadata": {},
     "output_type": "execute_result"
    }
   ],
   "source": [
    "# esta celda controla el estilo del cuaderno\n",
    "from IPython.core.display import HTML\n",
    "def css_styling():\n",
    "    styles = open(\"custom.css\", \"r\").read()\n",
    "    return HTML(styles)\n",
    "css_styling()"
   ]
  },
  {
   "cell_type": "markdown",
   "id": "separate-methodology",
   "metadata": {},
   "source": [
    "# Procesamiento del Lenguaje Natural\n",
    "\n",
    "## Introducción\n",
    "\n",
    "En este primer cuaderno vamos a hacer una introducción al Procesamiento del Lenguaje Natural (PLN):\n",
    "\n",
    "- en qué consiste esta subdisciplina de la Inteligencia Artificial;\n",
    "\n",
    "- qué problemas trata de resolver, y;\n",
    "\n",
    "- qué aproximaciones utiliza\n",
    "\n",
    "Después, nos detendremos en la descripción de las subtareas en las que se suele descomponer un sistema de PLN completo, tratando de dar ejemplos de aplicaciones y productos comerciales. Por último, analizaremos algunas de las dificultades a las que se enfrenta el PLN, que por el momento nos impiden tener sesudas conversaciones con las máquinas, tal y como sí ocurre en las historias de ciencia ficción."
   ]
  },
  {
   "cell_type": "markdown",
   "id": "devoted-hardwood",
   "metadata": {},
   "source": [
    "## Vives rodeado de Procesamiento del Lenguaje Natural\n",
    "\n",
    "En los últimos años, han proliferado las herramientas de Procesamiento del Lenguaje Natural que tenemos al alcance de la mano.\n",
    "\n",
    "![nlp-around.png](https://raw.githubusercontent.com/vitojph/dlstr-embeddings/main/img/nlp-around.png)\n",
    "\n",
    "Hace 40 años la única manera de consultar una base de datos era aprendiendo a manejar los operadores de un complicado lenguaje formal, al alcance de muy pocos. La democratización del acceso al conocimiento y los avances en inteligencia artificial permiten hoy en día que puedas buscar información en internet (a veces incluso en idiomas que no hablas) haciendo las mismas preguntas que le harías a una persona, o que puedas darle instrucciones a tu asistente virtual como si fuera un _mayordomo_ real. \n",
    "\n",
    "En muchos casos, el habla se ha convertido en el interfaz de usuario por defecto: interaccionamos con teléfonos, electrodomésticos, altavoces inteligentes y dispositivos sin pantalla ni teclado a través de la voz."
   ]
  },
  {
   "cell_type": "markdown",
   "id": "fatal-trigger",
   "metadata": {},
   "source": [
    "## ¿Qué es el PLN?\n",
    "\n",
    "El **Procesamiento del Lenguaje Natural** (PLN) es el área de la inteligencia artificial que tiene como objetivo hacer que las máquinas comprendan y utilicen el lenguaje humano.\n",
    "\n",
    "![venn-nlp.png](https://raw.githubusercontent.com/vitojph/dlstr-embeddings/main/img/venn-nlp.png)\n",
    "\n",
    "En inglés, la disciplina se denomina generalmente _Natural Language Processing_ (NLP, o NLProc), aunque puede recibir otros nombres como _Human Language Technologies_ (HLT), tecnologías de la lengua, ingeniería lingüística o lingüística computacional. Es un área claramente multidisciplinar que aglutina a gente con formación en lingüística, ingeniería, informática, estadística, psicología, interacción hombre-máquina y ciencias cognitivas.\n",
    "\n",
    "A pesar del auge del PLN, similar al que vemos en otras ramas de la inteligencia artificial, y los avances continuos que vemos en los últimos años, el PLN no es una disciplina nueva. Nace hace unos 70 años, en la década de 1950, con un objetivo inicial muy concreto: construir sistemas de traducción automática.\n",
    "\n",
    "En cualquier caso, vivimos una época apasionante para adentrarnos en el mundo del procesamiento del lenguaje y para aprender a enseñar a las máquinas a comunicarse con nosotros de la manera más natural."
   ]
  },
  {
   "cell_type": "markdown",
   "id": "chief-transformation",
   "metadata": {},
   "source": [
    "## Lenguaje natural y lenguaje artificiales\n",
    "\n",
    "El lenguaje es una de las capacidades cognitivas, probablemente la más importante, que nos hace humanos. Permite comunicarnos unos con otros y funciona como vehículo del pensamiento. Permite, en definitiva, transmitir ideas de un cerebro a otro, a través del tiempo y el espacio.\n",
    "\n",
    "Por un lado, denominamos **lenguaje natural** o **lengua natural** a cada uno de los más de 6700 idiomas que según Ethnologue se hablan en el planeta a día de hoy, y que han surgido y se han desarrollado de manera natural entre los distintos pueblos del mundo. Estas lenguas naturales, ya sean maternas o aprendidas como segunda lengua, suelen ser habladas o transmitidas a través de señas.\n",
    "\n",
    "Por otro lado, los seres humanos hemos creado **lenguajes artificiales**, que son constructos que se diseñan y se definen con el propósito de describir conceptos y relaciones de manera clara, concisa y no ambigua. Suelen tener solo forma escrita, y algunos de ellos probablemente te resultan familiares, como el lenguaje lógico-matemático y los lenguajes de programación.\n",
    "\n",
    "Entre las lenguas naturales y los lenguajes artificiales se suelen situar las **lenguas construidas o planificadas**, que son aquellas que se diseñan partiendo de las lenguas naturales con el objetivo práctico de facilitar la comunicación o por motivos artísticos, pero que no aspiran a convertirse en lenguas maternas de ningún grupo de población, como el esperanto, el quenya o el klingon."
   ]
  },
  {
   "cell_type": "markdown",
   "id": "static-substitute",
   "metadata": {},
   "source": [
    "## Objetivos del PLN\n",
    "\n",
    "El Procesamiento del Lenguaje Natural se interesa por proporcionar modelos computacionales para describir, interpretar, modelar o reproducir distintos fenómenos lingüísticos. Tiene como principal objetivo el desarrollo de herramientas y soluciones que permitan:\n",
    "\n",
    "1. **comprender** lenguaje natural, de manera que un enunciado o un texto emitido o creado por un ser humano pueda ser procesado e interpretado por una máquina. Esta faceta del PLN centrada en la comprensión del lenguaje natural recibe en inglés el nombre de _natural language understanding_ (NLU).\n",
    "2. **generar** lenguaje natural, de manera que una estructura de datos originalmente procesable por una máquina pueda transformarse en un enunciado o un texto expresado en lenguaje natural. Esta faceta del PLN centrada en la generación del lenguaje en inglés recibe el nombre de _natural language generation_ (NLG)."
   ]
  },
  {
   "cell_type": "markdown",
   "id": "rental-things",
   "metadata": {},
   "source": [
    "## Desarrollo histórico del PLN\n",
    "\n",
    "Históricamente, el PLN (y en general, la Inteligencia Artificial) ha operado siguiendo varias aproximaciones diferentes:\n",
    "\n",
    "1. **sistemas basados en conocimiento**: en problemas que podemos modelar, proporcionamos conocimiento lingüístico formalizado y las máquinas actúan aplicando reglas.\n",
    "\n",
    "2. **sistemas basados en el análisis estadístico de los datos**: en problemas cuya descripción es costosa o no podemos modelar, proporcionamos ingentes cantidades de datos (en el caso del PLN, colecciones de documentos) y dejamos que la máquina cree el modelo a partir del cálculo de probabilidades y la detección de patrones de uso.\n",
    "\n",
    "Como hemos mencionado antes, la disciplina nace en plena Guerra Fría, en la década de los 1950s, con el objetivo principal de construir sistemas de traducción automática, esto es, sistemas que eran capaces de procesar un mensaje o un texto en una lengua y traducirla a otra lengua diferente. Piensa en servicios de inteligencia estadounidenses y soviéticos interceptando mensajes del oponente y equipos de traductores, lingüistas y hablantes bilingües describiendo en forma de reglas todo su conocimiento y habilidades.\n",
    "\n",
    "En la década siguiente aparecen los llamados **sistemas expertos**, sistemas automáticos que asistían a expertos en un dominio concreto como podría ser la medicina o la ingeniería en la toma de decisiones. Y los años 1980s la mayor parte de los sistemas de PLN estaban basados en conocimiento y manejaban complejas reglas diseñadas a mano. Se dejaba sentir la influencia de las teorías de Noam Chomsky, considerado el padre de la Lingüística moderna.\n",
    "\n",
    "A partir de esa década, irrumpen las aproximaciones estadísticas basadas en sistemas de aprendizaje automático, que requieren grandes colecciones de datos anotados manualmente. Este desarrollo discurre paralelo al aumento de potencia de los ordenadores.\n",
    "\n",
    "Actualmente, vivimos un auge de los sistemas de aprendizaje automático **supervisados** (con colecciones de datos anotadas) y **no supervisados** (sin anotaciones de ningún tipo), con especial énfasis en el uso de la Web. Se aprovecha la explosión de datos disponibles en formato electrónico.\n",
    "\n",
    "En la década de los 2010s hemos visto el resurgir de los sistemas de aprendizaje automático que utilizan redes neuronales para procesar ingentes cantidades de datos (*deep learning*). Hasta hace poco, la gran dificultad de esta aproximación residía en la necesidad de contar con muchos datos y mucha potencia de cálculo. Pero hace menos de un lustro esta situación cambió, con la llegada de los modelos pre-entrenados y la aplicación de técnicas de Transfer Learning al mundo del procesamiento del lenguaje. Somos afortunados ahora que [vivimos en pleno momento ImageNet del PLN](http://ruder.io/nlp-imagenet/)."
   ]
  },
  {
   "cell_type": "markdown",
   "id": "fallen-subdivision",
   "metadata": {},
   "source": [
    "## Tareas típicas del pipeline de PLN\n",
    "\n",
    "La tarea de procesar un enunciado o un texto de entrada expresado en lenguaje natural de manera que una máquina pueda comprenderla es muy compleja. Es habitual intentar descomponer el problema en subtareas y diseñar sistemas específicos que aborden la resolución de estos problemas más pequeños. Y a menudo estos sistemas se organizan como si fueran una cadena de montaje o un _pipeline_, de manera que la entrada de cada componente es la salida del anterior, y a su vez alimenta al sistema que entra en juego tras él.\n",
    "\n",
    "A continuación vamos a identificar y describir alguna de las subtareas que conforman habitualmente un _pipeline_ de PLN. Incluiré también el nombre de la tarea en inglés y enlaces a la página [Papers with Code](https://www.paperswithcode.com), por si tienes interés en profundizar por tu cuenta y ver ejemplos concretos."
   ]
  },
  {
   "cell_type": "markdown",
   "id": "logical-giant",
   "metadata": {},
   "source": [
    "### Segmentación en oraciones y tokenización\n",
    "\n",
    "Asumiendo que partimos de una representación digital en formato texto, el primer paso que necesitamos recorrer para procesar lenguaje natural es segmentar el texto en oraciones. En Lingüistica, definimos [oración](https://es.wikipedia.org/wiki/Oraci%C3%B3n_%28gram%C3%A1tica%29) como una secuencia de palabras con sentido completo y autonomía sintáctica. Y en muchas lenguas delimitamos las oraciones con signos de puntuación.\n",
    "\n",
    "El siguiente paso, al que llamamos [tokenización](https://paperswithcode.com/task/tokenization), o _tokenization_ en inglés, es la tarea que consiste en procesar un texto de entrada en forma de cadena para segmentar e identificar las unidades atómicas mínimas, llamadas tokens. Estos tokens muchas veces se corresponden con la idea intuitiva que los hablantes tenemos de lo que es una palabra. Pero ojo, en otras ocasiones, como veremos más adelante, estos tokens pueden corresponderse con secuencias de caracteres menores que se combinan para formar palabras.\n",
    "\n",
    "![tokens](https://raw.githubusercontent.com/vitojph/dlstr-embeddings/main/img/tokens.png)"
   ]
  },
  {
   "cell_type": "markdown",
   "id": "accurate-appearance",
   "metadata": {},
   "source": [
    "### Desambiguación semántica\n",
    "\n",
    "La [desambiguación semántica](https://paperswithcode.com/task/word-sense-disambiguation), en inglés, _word sense disambiguation_ (WSD), es la tarea consistente en procesar palabras y determinar cuál de todos los posibles sentidos es el correcto, atendiendo al contexto de aparición, de manera análoga a cuando buscas una palabra en el diccionario."
   ]
  },
  {
   "cell_type": "markdown",
   "id": "periodic-retention",
   "metadata": {},
   "source": [
    "### Extracción de información\n",
    "\n",
    "Llamamos [extracción de información](https://paperswithcode.com/task/information-extraction), _information extraction_ (IE) en inglés, a la tarea que consiste en localizar y extraer de manera automática información estructurada con determinadas características formales (p. ej., números de teléfono, fechas, cantidades numéricas, direcciones de correo electrónico, códigos postales, etc.) a partir de información no estructurada expresada como lenguaje natural. El objetivo de estas extracciones suelen ser rellenar tablas con información estructurada o añadir registros en una base de datos."
   ]
  },
  {
   "cell_type": "markdown",
   "id": "spatial-parade",
   "metadata": {},
   "source": [
    "### Análisis morfo-sintáctico\n",
    "\n",
    "¿Recuerdas los análisis de oraciones y los árboles sintácticos que hacíamos en clase de lengua? Cuando se trata de hacerlo automáticamente, podemos distinguir dos pasos.\n",
    "\n",
    "En primer lugar, el [análisis morfológico](https://paperswithcode.com/task/part-of-speech-tagging), _part-of-speech tagging_ (PoS) en inglés, es la tarea que tiene como objetivo identificar qué tokens son nombres, adjetivos, verbos, etc., en definitiva, determinar a qué categoría gramatical pertenece cada palabra.\n",
    "\n",
    "![pos-parsing.png](https://raw.githubusercontent.com/vitojph/dlstr-embeddings/main/img/pos-parsing.png)\n",
    "\n",
    "Una vez tenemos las palabras asociadas con su categoría gramatical, podemos analizar las relaciones que se establecen entre ellas. El [análisis sintáctico](https://paperswithcode.com/task/dependency-parsing) (_parsing_, en inglés) es la tarea en la que se analiza una oración para representar su estructura sintáctica interna.\n",
    "\n",
    "\n",
    "### Reconocimiento de entidades\n",
    "\n",
    "El [reconocimiento de entidades nombradas](https://paperswithcode.com/task/named-entity-recognition-ner), o _named entities recognition_ (NER) en inglés, es la tarea que consiste en procesar una secuencia de palabras para reconocer cuáles de estas son menciones a tipos de entidades relevantes y asignar el tipo de entidad concreto.\n",
    "\n",
    "![ner.png](https://raw.githubusercontent.com/vitojph/dlstr-embeddings/main/img/ner.png)\n",
    "\n",
    "Un sistema de reconocimiento generalista, como el que se muestra en la siguiente imagen, se centra en localizar e identificar tipos de entidades como personas, organizaciones, lugares, fechas y cantidades.\n",
    "\n",
    "El reconocimiento de entidades puede parecer similar a la extracción de información, pero es una tarea más sofisticada, que no solo tiene en cuenta las características formales del texto, sino que trata de vincular menciones explícitas que aparecen en el texto con las entidades del mundo a las que hacen referencia."
   ]
  },
  {
   "cell_type": "markdown",
   "id": "restricted-throat",
   "metadata": {},
   "source": [
    "### Traducción automática\n",
    "\n",
    "La [traducción automática](https://paperswithcode.com/task/machine-translation), en inglés _machine translation_ (MT) es la tarea consistente en procesar una oración en una lengua de origen y transformarla en una frase equivalente en una lengua de destino.\n",
    "\n",
    "![mt.png](https://raw.githubusercontent.com/vitojph/dlstr-embeddings/main/img/mt.png)"
   ]
  },
  {
   "cell_type": "markdown",
   "id": "trying-profession",
   "metadata": {},
   "source": [
    "### Reconocimiento del habla\n",
    "\n",
    "Ten en cuenta que el lenguaje natural es eminentemente hablado y no siempre tenemos registro escrito. En estos casos, necesitamos hacer uso de algún sistema de [reconocimiento de habla](https://paperswithcode.com/task/speech-recognition), _automatic speech recognition_ (ASR) en inglés, que es la tarea consistente en procesar una señal de audio, reconocer el habla y devolver una representación en formato texto del enunciado."
   ]
  },
  {
   "cell_type": "markdown",
   "id": "worthy-decision",
   "metadata": {},
   "source": [
    "### Síntesis de voz\n",
    "\n",
    "La [síntesis de voz](https://paperswithcode.com/task/text-to-speech-synthesis), denominada _text-to-speech_ (TTS) en inglés, es la tarea en dirección contraria que tiene como objetivo convertir lenguaje natural en formato texto en una señal acústica que los humanos podamos identificar como habla."
   ]
  },
  {
   "cell_type": "markdown",
   "id": "inner-printing",
   "metadata": {},
   "source": [
    "### Recuperación de información\n",
    "\n",
    "La [búsqueda o recuperación de información](https://paperswithcode.com/task/information-retrieval), _information retrieval_ (IR) en inglés, es uno de los problemas centrales del procesamiento del lenguaje. Es la tarea que consiste en procesar queries de usuarios, expresadas como palabras clave o en lenguaje natural, para consultar una base de datos de información y devolver una lista ordenada de resultados relevantes. Los buscadores web, como [Google Search](https://www.google.com/), [Bing](https://www.bing.com/) y [Wolfram|Alpha](https://www.wolframalpha.com/examples) son algunos ejemplos."
   ]
  },
  {
   "cell_type": "markdown",
   "id": "established-candy",
   "metadata": {},
   "source": [
    "### Búsqueda de respuestas\n",
    "\n",
    "La [búsqueda de respuestas](https://paperswithcode.com/task/question-answering), _question answering_ (QA) en inglés, es la tarea que va un paso más allá de la búsqueda y procesa la consulta original del usuario, idealmente expresada en lenguaje natural, para devolver una o varias respuestas concretas, en lugar de proporcionar un ránking de resultados.\n",
    "\n",
    "![qa.png](https://raw.githubusercontent.com/vitojph/dlstr-embeddings/main/img/qa.png)"
   ]
  },
  {
   "cell_type": "markdown",
   "id": "dynamic-extension",
   "metadata": {},
   "source": [
    "### Resumen automático\n",
    "\n",
    "El [resumen automático](https://paperswithcode.com/task/text-summarization), _text summarization_ en inglés, es la tarea consistente en procesar uno o varios documentos expresados en lenguaje natural y generar una versión más breve que sintetice la información contenida en los documentos originales."
   ]
  },
  {
   "cell_type": "markdown",
   "id": "unique-torture",
   "metadata": {},
   "source": [
    "### Análisis de opinión\n",
    "\n",
    "El [análisis de opinión](https://paperswithcode.com/task/sentiment-analysis), _sentiment analysis_ en inglés, es la tarea que consiste en procesar texto en lenguaje natural, identificar los fragmentos con información subjetiva y clasificarlos en base a su polaridad para determinar si se trata de opiniones positivas, negativas o neutras."
   ]
  },
  {
   "cell_type": "markdown",
   "id": "ruled-fraud",
   "metadata": {},
   "source": [
    "### Asistentes virtuales\n",
    "\n",
    "En los últimos años hemos sido testigos de la aparición de diversos asistentes virtuales desarrollados por las grandes empresas de inteligencia artificial del mundo y de su inclusión en numerosos dispositivos. Los famosos [Siri](https://www.apple.com/es/siri), [Alexa](https://developer.amazon.com/es-ES/alexa), [Google Assistant](https://assistant.google.com/intl/es_es) o [Cortana](https://www.microsoft.com/es-es/windows/cortana) son solo algunos ejemplos de herramientas comerciales. Lo más llamativo es que cada vez más a menudo usamos estos asistentes como interfaz de usuario para conectar y manejar dispositivos de todo tipo, desde teléfonos y ordenadores hasta sistemas de domótica y electrodomésticos."
   ]
  },
  {
   "cell_type": "markdown",
   "id": "careful-simon",
   "metadata": {},
   "source": [
    "## Hacer PLN no es fácil\n",
    "\n",
    "El siguiente diagrama muestra cuál es el grado de avance en algunas de las tareas mencionadas anteriormente.\n",
    "\n",
    "![langtech-progress.png](https://raw.githubusercontent.com/vitojph/dlstr-embeddings/main/img/langtech-progress.png)\n",
    "\n",
    "Es importante remarcar que solo se contempla para el inglés y las grandes lenguas del mundo. La principal dificultad de NLP en muchos casos es la ausencia de datos y recursos en lenguas no mayoritarias.\n",
    "\n",
    "¿Y por qué es tan difícil? Al contrario que los lenguajes artificiales, el lenguaje natural es\n",
    "eminentemente ambiguo. ¿Qué significa esto? Pues que un mismo elemento o estructura puede tener más de una interpretación completamente válida, dependiente del contexto. Desafortunadamente, las máquinas son muy eficaces analizando la información que aparece de manera explícita, pero tienen muchas dificultades para manejar el contexto y la información que se comunica pero no se dice.\n",
    "\n",
    "La ambigüedad del lenguaje natural existe a varios niveles:\n",
    "\n",
    "- desde el punto de vista del sonido, lo que se denomina ambigüedad fonética y fonológica, encontramos pares de palabras o secuencias de palabras que son homófonas y suenan igual: _vaca/baca_, _casa/caza_, _has sido tú/has ido tú_.\n",
    "\n",
    "- en relación a los diferentes tipos de palabras, encontramos ambigüedad morfológica cuando una palabra determinada puede clasificarse dentro de más de una categoría gramatical : _casa, beso, río_ pueden ser tanto nombres como verbos, y _bajo_ puede funcionar además adjetivo y preposición.\n",
    "\n",
    "- desde el punto de vista del significado de las palabras, hablamos de ambigüedad semántica cuando encontramos palabras polisémicas, es decir palabras con más de un significado: _banco_, _pie_, _planta_, etc.\n",
    "\n",
    "- atendiendo a la estructura de las oraciones, podemos encontrar ambigüedad sintáctica cuando una misma oración tiene dos árboles sintácticos perfectamente válidos, aunque con significado diferente. La oración _Ayer me encontré a tu padre corriendo por el parque_ tiene varias interpretaciones posibles, cada una con una estructura sintáctica diferente.\n",
    "\n",
    "- por último, encontramos interpretaciones ambiguas a nivel del discurso, con problemas triviales para los seres humanos pero muy complejos de resolver por las máquinas, como la correferencia, y las anáforas."
   ]
  }
 ],
 "metadata": {
  "kernelspec": {
   "display_name": "Python 3 (ipykernel)",
   "language": "python",
   "name": "python3"
  },
  "language_info": {
   "codemirror_mode": {
    "name": "ipython",
    "version": 3
   },
   "file_extension": ".py",
   "mimetype": "text/x-python",
   "name": "python",
   "nbconvert_exporter": "python",
   "pygments_lexer": "ipython3",
   "version": "3.8.12"
  }
 },
 "nbformat": 4,
 "nbformat_minor": 5
}
